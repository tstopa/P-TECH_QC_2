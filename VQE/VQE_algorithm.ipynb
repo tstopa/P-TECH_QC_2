{
 "cells": [
  {
   "cell_type": "code",
   "execution_count": 1,
   "id": "373aca2e-8bcb-4df3-a6b3-897f0ab212b5",
   "metadata": {},
   "outputs": [],
   "source": [
    "import numpy as np\n",
    "from numpy.linalg import eig\n",
    "from qiskit_algorithms.optimizers import SLSQP\n",
    "from qiskit.circuit.library import TwoLocal, EfficientSU2\n",
    "from qiskit.primitives import Estimator\n",
    "from qiskit_algorithms import VQE\n",
    "from qiskit.quantum_info import Operator\n",
    "from qiskit.quantum_info import SparsePauliOp\n",
    "from qiskit_ibm_runtime import QiskitRuntimeService, Session\n",
    "from qiskit_ibm_runtime import EstimatorV2 as Estimator\n",
    "from qiskit.transpiler.preset_passmanagers import generate_preset_pass_manager\n",
    "from scipy.optimize import minimize"
   ]
  },
  {
   "cell_type": "markdown",
   "id": "3221218f-c4cd-4e77-9c8f-099fce8f9a52",
   "metadata": {},
   "source": [
    "Based on the following Qiskit tutorial: https://learning.quantum.ibm.com/tutorial/variational-quantum-eigensolver"
   ]
  },
  {
   "cell_type": "markdown",
   "id": "99a32935-c643-458e-a4c2-f178921508b4",
   "metadata": {},
   "source": [
    "# Let's define the operator:"
   ]
  },
  {
   "cell_type": "code",
   "execution_count": 2,
   "id": "2e7b911c-180b-47e5-82cf-afac1b474a82",
   "metadata": {},
   "outputs": [],
   "source": [
    "hamiltonian = SparsePauliOp.from_list(\n",
    "    [(\"YZ\", 0.3980), (\"ZI\", -0.3980), (\"ZZ\", -0.0113), (\"XX\", 0.1810)]\n",
    ")"
   ]
  },
  {
   "cell_type": "code",
   "execution_count": 3,
   "id": "7e99085b-eb09-414d-82b7-bf968204d3d2",
   "metadata": {},
   "outputs": [
    {
     "name": "stdout",
     "output_type": "stream",
     "text": [
      "[[-0.4093+0.j     0.    +0.j     0.    -0.398j  0.181 +0.j   ]\n",
      " [ 0.    +0.j    -0.3867+0.j     0.181 +0.j     0.    +0.398j]\n",
      " [ 0.    +0.398j  0.181 +0.j     0.4093+0.j     0.    +0.j   ]\n",
      " [ 0.181 +0.j     0.    -0.398j  0.    +0.j     0.3867+0.j   ]]\n"
     ]
    }
   ],
   "source": [
    "H = hamiltonian.to_matrix()\n",
    "print(H)"
   ]
  },
  {
   "cell_type": "code",
   "execution_count": 4,
   "id": "d1279c51-8c8d-44d3-a8b0-318625cc8220",
   "metadata": {},
   "outputs": [
    {
     "data": {
      "text/latex": [
       "$$\n",
       "\n",
       "\\begin{bmatrix}\n",
       "-0.4093 & 0 & - 0.398 i & 0.181  \\\\\n",
       " 0 & - \\frac{2^{\\frac{289}{993}} \\cdot 3^{\\frac{61}{331}} \\cdot 5^{\\frac{203}{993}} \\cdot 7^{\\frac{134}{993}}}{7} & 0.181 & 0.398 i  \\\\\n",
       " 0.398 i & 0.181 & 0.4093 & 0  \\\\\n",
       " 0.181 & - 0.398 i & 0 & \\frac{2^{\\frac{289}{993}} \\cdot 3^{\\frac{61}{331}} \\cdot 5^{\\frac{203}{993}} \\cdot 7^{\\frac{134}{993}}}{7}  \\\\\n",
       " \\end{bmatrix}\n",
       "$$"
      ],
      "text/plain": [
       "<IPython.core.display.Latex object>"
      ]
     },
     "execution_count": 4,
     "metadata": {},
     "output_type": "execute_result"
    }
   ],
   "source": [
    "hamiltonian_operator = Operator(hamiltonian)\n",
    "hamiltonian_operator.draw(output='latex')"
   ]
  },
  {
   "cell_type": "markdown",
   "id": "7cd7def1-4745-49c6-98f7-b4572c824663",
   "metadata": {},
   "source": [
    "# Let's find eigenvalues using classical numpy linear algebra package:"
   ]
  },
  {
   "cell_type": "code",
   "execution_count": 5,
   "id": "6ab1500c-0144-4648-867c-9366cb9b571d",
   "metadata": {},
   "outputs": [
    {
     "name": "stdout",
     "output_type": "stream",
     "text": [
      "Eigenvalues: [-0.70293039+6.24707871e-18j -0.45308083-7.57079461e-17j\n",
      "  0.70293039-6.06797210e-18j  0.45308083+3.47628378e-17j]\n",
      "Eigenvectors:\n",
      " [[ 6.49638715e-01+0.00000000e+00j -1.13885050e-18+6.65864932e-01j\n",
      "   7.01111754e-18-3.30320834e-01j -1.59629506e-01-4.32331142e-17j]\n",
      " [-2.91446790e-16+6.01307531e-01j  7.03606721e-01+0.00000000e+00j\n",
      "   3.27546851e-01-2.90500924e-17j -2.28717515e-17+1.89947086e-01j]\n",
      " [-3.02255009e-17-3.30320834e-01j  1.59629506e-01+8.31587415e-17j\n",
      "   6.49638715e-01+0.00000000e+00j  1.18760305e-16-6.65864932e-01j]\n",
      " [-3.27546851e-01-1.37383111e-16j -1.35473761e-17+1.89947086e-01j\n",
      "  -1.69472202e-17-6.01307531e-01j  7.03606721e-01+0.00000000e+00j]]\n"
     ]
    }
   ],
   "source": [
    "e,v=eig(H)\n",
    "print(\"Eigenvalues:\", e)\n",
    "print(\"Eigenvectors:\\n\", v)"
   ]
  },
  {
   "cell_type": "markdown",
   "id": "177bbd32-9a8e-47bd-ae86-622946a6d656",
   "metadata": {},
   "source": [
    "# ...or even find smallest eigenvalue with Qiskit wrapper over classical numpy eigensolver:"
   ]
  },
  {
   "cell_type": "code",
   "execution_count": 6,
   "id": "a578232e-81a4-4c96-af40-9b6fc3b590ad",
   "metadata": {},
   "outputs": [
    {
     "name": "stdout",
     "output_type": "stream",
     "text": [
      "-0.7029303944595301\n"
     ]
    }
   ],
   "source": [
    "from qiskit_algorithms import NumPyMinimumEigensolver\n",
    "\n",
    "numpy_solver = NumPyMinimumEigensolver()\n",
    "result = numpy_solver.compute_minimum_eigenvalue(operator=hamiltonian)\n",
    "minimal_eigenvalue = result.eigenvalue.real\n",
    "print(minimal_eigenvalue)"
   ]
  },
  {
   "cell_type": "markdown",
   "id": "625fc72f-09ab-4f6c-9d73-8bd611586d90",
   "metadata": {},
   "source": [
    "# Now, let's use VQE algorithm"
   ]
  },
  {
   "cell_type": "code",
   "execution_count": 7,
   "id": "8c88de40-1ff3-460e-964a-2f45fe579a5c",
   "metadata": {},
   "outputs": [],
   "source": [
    "ansatz = EfficientSU2(hamiltonian.num_qubits)"
   ]
  },
  {
   "cell_type": "code",
   "execution_count": 19,
   "id": "6c401f86-b126-4d4f-9d0a-99a961036c28",
   "metadata": {
    "scrolled": true
   },
   "outputs": [
    {
     "data": {
      "image/png": "[encoded data removed]",
      "text/plain": [
       "<Figure size 1039.79x200.667 with 1 Axes>"
      ]
     },
     "execution_count": 19,
     "metadata": {},
     "output_type": "execute_result"
    }
   ],
   "source": [
    "ansatz.decompose().draw(\"mpl\")"
   ]
  },
  {
   "cell_type": "code",
   "execution_count": 9,
   "id": "e9024947-3174-4201-a2bc-3ad7f0072722",
   "metadata": {},
   "outputs": [
    {
     "name": "stdout",
     "output_type": "stream",
     "text": [
      "16\n"
     ]
    }
   ],
   "source": [
    "num_params = ansatz.num_parameters\n",
    "print(num_params)"
   ]
  },
  {
   "cell_type": "code",
   "execution_count": 10,
   "id": "129d76f4-d3be-4e16-8f11-38ecd5e5c483",
   "metadata": {},
   "outputs": [
    {
     "name": "stdout",
     "output_type": "stream",
     "text": [
      "2\n"
     ]
    }
   ],
   "source": [
    "print(hamiltonian.num_qubits)"
   ]
  },
  {
   "cell_type": "code",
   "execution_count": 11,
   "id": "8abf6a4f-0758-4cfd-a961-216e30ec85cf",
   "metadata": {},
   "outputs": [],
   "source": [
    "def cost_func(params, ansatz, hamiltonian, estimator):\n",
    "    pub = (ansatz, [hamiltonian], [params])\n",
    "    result = estimator.run(pubs=[pub]).result()\n",
    "    energy = result[0].data.evs[0]\n",
    "\n",
    "    costs.append(energy)\n",
    "    print(f\"Iteration: {len(costs)+1}, cost: {energy}\")\n",
    "\n",
    "    return energy"
   ]
  },
  {
   "cell_type": "code",
   "execution_count": 12,
   "id": "f545a1f6-66de-4f57-b0d2-5ea74654d4ba",
   "metadata": {},
   "outputs": [],
   "source": [
    "costs = []"
   ]
  },
  {
   "cell_type": "code",
   "execution_count": 13,
   "id": "691528a2-e6c1-46cd-b6b1-2b4c2dc64df4",
   "metadata": {},
   "outputs": [],
   "source": [
    "from qiskit_ibm_runtime.fake_provider import FakeManilaV2\n",
    "\n",
    "fake_manila = FakeManilaV2()"
   ]
  },
  {
   "cell_type": "code",
   "execution_count": 14,
   "id": "b38d9414-d4d1-4249-97a8-dfb60b1ea2d6",
   "metadata": {},
   "outputs": [
    {
     "name": "stdout",
     "output_type": "stream",
     "text": [
      "[5.90685019 1.47959955 3.24316651 0.91064745 4.41024457 2.5631947\n",
      " 4.86250318 1.82609599 4.10095103 6.02092011 0.83682058 1.5221415\n",
      " 3.17266634 2.09706798 1.06580929 1.24931111]\n"
     ]
    }
   ],
   "source": [
    "pm = generate_preset_pass_manager(backend=fake_manila, optimization_level=1)\n",
    "\n",
    "ansatz_isa = pm.run(ansatz)\n",
    "hamiltonian_isa = hamiltonian.apply_layout(layout=ansatz_isa.layout)\n",
    "\n",
    "x0 = 2 * np.pi * np.random.random(num_params)\n",
    "print(x0)"
   ]
  },
  {
   "cell_type": "code",
   "execution_count": 18,
   "id": "efaef4dc-e9f7-4cc2-9445-a1fed7debea4",
   "metadata": {},
   "outputs": [
    {
     "data": {
      "image/png": "[encoded data removed]",
      "text/plain": [
       "<Figure size 2095.61x200.667 with 1 Axes>"
      ]
     },
     "execution_count": 18,
     "metadata": {},
     "output_type": "execute_result"
    }
   ],
   "source": [
    "ansatz_isa.draw(output=\"mpl\", idle_wires=False, style=\"iqp\")"
   ]
  },
  {
   "cell_type": "code",
   "execution_count": 16,
   "id": "37ffdd58-9aa5-45a7-b451-ffa0f0b54d65",
   "metadata": {},
   "outputs": [
    {
     "name": "stdout",
     "output_type": "stream",
     "text": [
      "Iteration: 2, cost: 0.36955168\n",
      "Iteration: 3, cost: -0.13289982\n",
      "Iteration: 4, cost: -0.23628000000000005\n",
      "Iteration: 5, cost: -0.01931224000000001\n",
      "Iteration: 6, cost: -0.24224292000000003\n",
      "Iteration: 7, cost: -0.14487834\n",
      "Iteration: 8, cost: -0.03538870000000004\n",
      "Iteration: 9, cost: -0.27028568000000003\n",
      "Iteration: 10, cost: -0.2397584\n",
      "Iteration: 11, cost: -0.09211384000000002\n",
      "Iteration: 12, cost: -0.30148312000000005\n",
      "Iteration: 13, cost: -0.40868664000000005\n",
      "Iteration: 14, cost: -0.10831312000000001\n",
      "Iteration: 15, cost: -0.30676196\n",
      "Iteration: 16, cost: -0.2393959\n",
      "Iteration: 17, cost: -0.30135308000000005\n",
      "Iteration: 18, cost: -0.42948522000000006\n",
      "Iteration: 19, cost: -0.24262789999999998\n",
      "Iteration: 20, cost: -0.31494874000000006\n",
      "Iteration: 21, cost: -0.43122636000000003\n",
      "Iteration: 22, cost: -0.43661408000000007\n",
      "Iteration: 23, cost: -0.49857540000000006\n",
      "Iteration: 24, cost: -0.40607798000000006\n",
      "Iteration: 25, cost: -0.56605338\n",
      "Iteration: 26, cost: -0.52785534\n",
      "Iteration: 27, cost: -0.50577266\n",
      "Iteration: 28, cost: -0.54567064\n",
      "Iteration: 29, cost: -0.35219212000000005\n",
      "Iteration: 30, cost: -0.419067\n",
      "Iteration: 31, cost: -0.4020165\n",
      "Iteration: 32, cost: -0.5630791\n",
      "Iteration: 33, cost: -0.49752486\n",
      "Iteration: 34, cost: -0.47944564\n",
      "Iteration: 35, cost: -0.44534136\n",
      "Iteration: 36, cost: -0.47086594000000004\n",
      "Iteration: 37, cost: -0.55027508\n",
      "Iteration: 38, cost: -0.56012354\n",
      "Iteration: 39, cost: -0.53436796\n",
      "Iteration: 40, cost: -0.5843271800000001\n",
      "Iteration: 41, cost: -0.5773841200000001\n",
      "Iteration: 42, cost: -0.5680117600000001\n",
      "Iteration: 43, cost: -0.572861\n",
      "Iteration: 44, cost: -0.5801425200000001\n",
      "Iteration: 45, cost: -0.59056888\n",
      "Iteration: 46, cost: -0.56936884\n",
      "Iteration: 47, cost: -0.60043206\n",
      "Iteration: 48, cost: -0.5094535600000001\n",
      "Iteration: 49, cost: -0.57880332\n",
      "Iteration: 50, cost: -0.57070624\n",
      "Iteration: 51, cost: -0.56044796\n",
      "Iteration: 52, cost: -0.58622338\n",
      "Iteration: 53, cost: -0.59164872\n",
      "Iteration: 54, cost: -0.58574512\n",
      "Iteration: 55, cost: -0.6012760800000001\n",
      "Iteration: 56, cost: -0.58699334\n",
      "Iteration: 57, cost: -0.61729398\n",
      "Iteration: 58, cost: -0.6192057400000001\n",
      "Iteration: 59, cost: -0.6093397\n",
      "Iteration: 60, cost: -0.6136314199999999\n",
      "Iteration: 61, cost: -0.6103607200000002\n",
      "Iteration: 62, cost: -0.6298948999999999\n",
      "Iteration: 63, cost: -0.6017661\n",
      "Iteration: 64, cost: -0.6207250799999999\n",
      "Iteration: 65, cost: -0.58929386\n",
      "Iteration: 66, cost: -0.6136862\n",
      "Iteration: 67, cost: -0.6107863800000001\n",
      "Iteration: 68, cost: -0.6172382200000001\n",
      "Iteration: 69, cost: -0.62431346\n",
      "Iteration: 70, cost: -0.6203402200000001\n",
      "Iteration: 71, cost: -0.62311184\n",
      "Iteration: 72, cost: -0.6207970600000001\n",
      "Iteration: 73, cost: -0.62897318\n",
      "Iteration: 74, cost: -0.61701202\n",
      "Iteration: 75, cost: -0.60403146\n",
      "Iteration: 76, cost: -0.6181761600000001\n",
      "Iteration: 77, cost: -0.62091452\n",
      "Iteration: 78, cost: -0.6161961800000001\n",
      "Iteration: 79, cost: -0.6210036999999999\n",
      "Iteration: 80, cost: -0.62511768\n",
      "Iteration: 81, cost: -0.61744972\n",
      "Iteration: 82, cost: -0.62199616\n",
      "Iteration: 83, cost: -0.6172936400000001\n",
      "Iteration: 84, cost: -0.61787116\n",
      "Iteration: 85, cost: -0.61717372\n",
      "Iteration: 86, cost: -0.6265156\n",
      "Iteration: 87, cost: -0.6166463200000001\n",
      "Iteration: 88, cost: -0.61082908\n",
      "Iteration: 89, cost: -0.6138731599999999\n",
      "Iteration: 90, cost: -0.61816862\n",
      "Iteration: 91, cost: -0.6185193800000001\n",
      "Iteration: 92, cost: -0.6160472200000001\n",
      "Iteration: 93, cost: -0.62112534\n",
      "Iteration: 94, cost: -0.6187178200000001\n",
      "Iteration: 95, cost: -0.61942638\n",
      "Iteration: 96, cost: -0.62167852\n",
      "Iteration: 97, cost: -0.62234624\n",
      "Iteration: 98, cost: -0.61707258\n",
      "Iteration: 99, cost: -0.62343848\n",
      "Iteration: 100, cost: -0.62035126\n",
      "Iteration: 101, cost: -0.6117814\n",
      "Iteration: 102, cost: -0.6150243400000001\n",
      "Iteration: 103, cost: -0.6261339600000001\n",
      "Iteration: 104, cost: -0.61626212\n",
      "Iteration: 105, cost: -0.6175139199999999\n",
      "Iteration: 106, cost: -0.6177196599999999\n",
      "Iteration: 107, cost: -0.6111712\n",
      "Iteration: 108, cost: -0.6193387800000001\n",
      "Iteration: 109, cost: -0.61340482\n",
      "Iteration: 110, cost: -0.61895612\n",
      "Iteration: 111, cost: -0.6158234\n",
      "Iteration: 112, cost: -0.618376\n",
      "Iteration: 113, cost: -0.6143250200000001\n",
      "Iteration: 114, cost: -0.62206066\n",
      "Iteration: 115, cost: -0.6141892600000001\n",
      "Iteration: 116, cost: -0.62537326\n",
      "Iteration: 117, cost: -0.63403302\n",
      "Iteration: 118, cost: -0.6214839400000001\n",
      "Iteration: 119, cost: -0.62448612\n",
      "Iteration: 120, cost: -0.6168365\n",
      "Iteration: 121, cost: -0.61190878\n",
      "Iteration: 122, cost: -0.6196264800000001\n",
      "Iteration: 123, cost: -0.6168844400000001\n",
      "Iteration: 124, cost: -0.61485014\n",
      "Iteration: 125, cost: -0.6258207\n",
      "Iteration: 126, cost: -0.6260002400000001\n",
      "Iteration: 127, cost: -0.61920936\n",
      "Iteration: 128, cost: -0.6110925\n",
      "Iteration: 129, cost: -0.6120464000000001\n",
      "Iteration: 130, cost: -0.6167572800000001\n",
      "Iteration: 131, cost: -0.61865456\n",
      "Iteration: 132, cost: -0.61062844\n",
      "Iteration: 133, cost: -0.61620138\n",
      "Iteration: 134, cost: -0.62777638\n",
      "Iteration: 135, cost: -0.6241190600000001\n",
      "Iteration: 136, cost: -0.62707492\n",
      "Iteration: 137, cost: -0.62031762\n",
      "Iteration: 138, cost: -0.61903934\n",
      "Iteration: 139, cost: -0.62069852\n",
      "Iteration: 140, cost: -0.63159382\n",
      "Iteration: 141, cost: -0.6197235799999999\n",
      "Iteration: 142, cost: -0.62754038\n",
      "Iteration: 143, cost: -0.61685058\n",
      "Iteration: 144, cost: -0.61824268\n",
      "Iteration: 145, cost: -0.6184139\n",
      "Iteration: 146, cost: -0.6163658000000001\n",
      "Iteration: 147, cost: -0.61671834\n",
      "Iteration: 148, cost: -0.6097610600000001\n",
      "Iteration: 149, cost: -0.6178783999999999\n",
      "Iteration: 150, cost: -0.6150283200000001\n",
      "Iteration: 151, cost: -0.6239333800000001\n",
      "Iteration: 152, cost: -0.6186095400000001\n",
      "Iteration: 153, cost: -0.62198958\n",
      "Iteration: 154, cost: -0.6203268200000001\n",
      "Iteration: 155, cost: -0.6208002800000001\n",
      "Iteration: 156, cost: -0.61334608\n",
      "Iteration: 157, cost: -0.62037964\n",
      "Iteration: 158, cost: -0.61234754\n",
      "Iteration: 159, cost: -0.61338766\n",
      "Iteration: 160, cost: -0.61384328\n",
      "Iteration: 161, cost: -0.618104\n",
      "Iteration: 162, cost: -0.6213583\n",
      "Iteration: 163, cost: -0.62195006\n"
     ]
    }
   ],
   "source": [
    "with Session(backend=fake_manila) as session:\n",
    "    estimator = Estimator(mode=session)\n",
    "    estimator.options.default_shots = 10000\n",
    "\n",
    "    res = minimize(\n",
    "        cost_func,\n",
    "        x0,\n",
    "        args=(ansatz_isa, hamiltonian_isa, estimator),\n",
    "        method=\"cobyla\",\n",
    "    )"
   ]
  },
  {
   "cell_type": "code",
   "execution_count": 20,
   "id": "fe80a964-9e83-4cb5-b4a9-e0ca9f2ffdc0",
   "metadata": {},
   "outputs": [
    {
     "data": {
      "text/plain": [
       "[<matplotlib.lines.Line2D at 0x1a5cbe8cb10>]"
      ]
     },
     "execution_count": 20,
     "metadata": {},
     "output_type": "execute_result"
    },
    {
     "data": {
      "image/png": "[encoded data removed]",
      "text/plain": [
       "<Figure size 640x480 with 1 Axes>"
      ]
     },
     "metadata": {},
     "output_type": "display_data"
    }
   ],
   "source": [
    "import matplotlib.pyplot as plt\n",
    "\n",
    "plt.plot(costs)"
   ]
  },
  {
   "cell_type": "markdown",
   "id": "47d4ac13-c56b-4d43-a7de-eb1eea222a68",
   "metadata": {},
   "source": [
    "# Exercise 1\n",
    "Use different type of ansatz and check how this affects the result. \\\n",
    "Use this ansatz: ```TwoLocal(num_qubits, \"ry\", \"cz\")```\n"
   ]
  },
  {
   "cell_type": "markdown",
   "id": "a73101ff-df61-4ea7-9c91-a0de374c446b",
   "metadata": {},
   "source": [
    "# Exercise 2\n",
    "We got -0.6 instead of -0.7 :( \\\n",
    "This is because we used simulator of a real quantum computer.\n",
    "Rework the above VQE example to return correct value of smallest eigenvalue by using ideal simulator: ```StatevectorEstimator```"
   ]
  },
  {
   "cell_type": "markdown",
   "id": "9a492b49-546b-43b7-a959-35f7b3102061",
   "metadata": {},
   "source": [
    "# Exercise 3:\n",
    "Using VQE algorithm calculate ground state energy of hydrogen molecule described by the below Hamiltonian.\\\n",
    "Check in the internet if the result is correct and deduce in what units it is expressed."
   ]
  },
  {
   "cell_type": "code",
   "execution_count": 153,
   "id": "23bc399a-e80d-4c12-a7c2-ae885245b41c",
   "metadata": {},
   "outputs": [],
   "source": [
    "H2_op = SparsePauliOp.from_list(\n",
    "    [\n",
    "        (\"II\", -1.052373245772859),\n",
    "        (\"IZ\", 0.39793742484318045),\n",
    "        (\"ZI\", -0.39793742484318045),\n",
    "        (\"ZZ\", -0.01128010425623538),\n",
    "        (\"XX\", 0.18093119978423156),\n",
    "    ]\n",
    ")"
   ]
  },
  {
   "cell_type": "markdown",
   "id": "4c91eef1-94c6-4677-922f-38b4f382d89c",
   "metadata": {},
   "source": [
    "# Homework\n",
    "Run the above VQE algorithm on real quantum backend."
   ]
  }
 ],
 "metadata": {
  "kernelspec": {
   "display_name": "Python 3 (ipykernel)",
   "language": "python",
   "name": "python3"
  },
  "language_info": {
   "codemirror_mode": {
    "name": "ipython",
    "version": 3
   },
   "file_extension": ".py",
   "mimetype": "text/x-python",
   "name": "python",
   "nbconvert_exporter": "python",
   "pygments_lexer": "ipython3",
   "version": "3.11.4"
  }
 },
 "nbformat": 4,
 "nbformat_minor": 5
}
